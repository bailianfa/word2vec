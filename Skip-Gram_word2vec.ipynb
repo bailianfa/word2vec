{
 "cells": [
  {
   "cell_type": "markdown",
   "metadata": {},
   "source": [
    "# Skip-gram word2vec\n",
    "\n",
    "In this notebook, I'll lead you through using TensorFlow to implement the word2vec algorithm using the skip-gram architecture. By implementing this, you'll learn about embedding words for use in natural language processing. This will come in handy when dealing with things like machine translation.\n",
    "\n",
    "## Readings\n",
    "\n",
    "Here are the resources I used to build this notebook. I suggest reading these either beforehand or while you're working on this material.\n",
    "\n",
    "* A really good [conceptual overview](http://mccormickml.com/2016/04/19/word2vec-tutorial-the-skip-gram-model/) of word2vec from Chris McCormick \n",
    "* [First word2vec paper](https://arxiv.org/pdf/1301.3781.pdf) from Mikolov et al.\n",
    "* [NIPS paper](http://papers.nips.cc/paper/5021-distributed-representations-of-words-and-phrases-and-their-compositionality.pdf) with improvements for word2vec also from Mikolov et al.\n",
    "* An [implementation of word2vec](http://www.thushv.com/natural_language_processing/word2vec-part-1-nlp-with-deep-learning-with-tensorflow-skip-gram/) from Thushan Ganegedara\n",
    "* TensorFlow [word2vec tutorial](https://www.tensorflow.org/tutorials/word2vec)\n",
    "\n",
    "## Word embeddings\n",
    "\n",
    "When you're dealing with words in text, you end up with tens of thousands of classes to predict, one for each word. Trying to one-hot encode these words is massively inefficient, you'll have one element set to 1 and the other 50,000 set to 0. The matrix multiplication going into the first hidden layer will have almost all of the resulting values be zero. This a huge waste of computation. \n",
    "\n",
    "![one-hot encodings](assets/one_hot_encoding.png)\n",
    "\n",
    "To solve this problem and greatly increase the efficiency of our networks, we use what are called embeddings. Embeddings are just a fully connected layer like you've seen before. We call this layer the embedding layer and the weights are embedding weights. We skip the multiplication into the embedding layer by instead directly grabbing the hidden layer values from the weight matrix. We can do this because the multiplication of a one-hot encoded vector with a matrix returns the row of the matrix corresponding the index of the \"on\" input unit.\n",
    "\n",
    "![lookup](assets/lookup_matrix.png)\n",
    "\n",
    "Instead of doing the matrix multiplication, we use the weight matrix as a lookup table. We encode the words as integers, for example \"heart\" is encoded as 958, \"mind\" as 18094. Then to get hidden layer values for \"heart\", you just take the 958th row of the embedding matrix. This process is called an **embedding lookup** and the number of hidden units is the **embedding dimension**.\n",
    "\n",
    "<img src='assets/tokenize_lookup.png' width=500>\n",
    " \n",
    "There is nothing magical going on here. The embedding lookup table is just a weight matrix. The embedding layer is just a hidden layer. The lookup is just a shortcut for the matrix multiplication. The lookup table is trained just like any weight matrix as well.\n",
    "\n",
    "Embeddings aren't only used for words of course. You can use them for any model where you have a massive number of classes. A particular type of model called **Word2Vec** uses the embedding layer to find vector representations of words that contain semantic meaning.\n",
    "\n"
   ]
  },
  {
   "cell_type": "markdown",
   "metadata": {},
   "source": [
    "## Word2Vec\n",
    "\n",
    "The word2vec algorithm finds much more efficient representations by finding vectors that represent the words. These vectors also contain semantic information about the words. Words that show up in similar contexts, such as \"black\", \"white\", and \"red\" will have vectors near each other. There are two architectures for implementing word2vec, CBOW (Continuous Bag-Of-Words) and Skip-gram.\n",
    "\n",
    "<img src=\"assets/word2vec_architectures.png\" width=\"500\">\n",
    "\n",
    "In this implementation, we'll be using the skip-gram architecture because it performs better than CBOW. Here, we pass in a word and try to predict the words surrounding it in the text. In this way, we can train the network to learn representations for words that show up in similar contexts.\n",
    "\n",
    "First up, importing packages."
   ]
  },
  {
   "cell_type": "code",
   "execution_count": 1,
   "metadata": {
    "collapsed": true
   },
   "outputs": [],
   "source": [
    "import time\n",
    "\n",
    "import numpy as np\n",
    "import tensorflow as tf\n",
    "\n",
    "import utils"
   ]
  },
  {
   "cell_type": "markdown",
   "metadata": {},
   "source": [
    "Load the [text8 dataset](http://mattmahoney.net/dc/textdata.html), a file of cleaned up Wikipedia articles from Matt Mahoney. The next cell will download the data set to the `data` folder. Then you can extract it and delete the archive file to save storage space."
   ]
  },
  {
   "cell_type": "code",
   "execution_count": 2,
   "metadata": {},
   "outputs": [
    {
     "name": "stderr",
     "output_type": "stream",
     "text": [
      "Text8 Dataset: 31.4MB [00:21, 1.46MB/s]                                                                                \n"
     ]
    }
   ],
   "source": [
    "from urllib.request import urlretrieve\n",
    "from os.path import isfile, isdir\n",
    "from tqdm import tqdm\n",
    "import zipfile\n",
    "\n",
    "dataset_folder_path = 'data'\n",
    "dataset_filename = 'text8.zip'\n",
    "dataset_name = 'Text8 Dataset'\n",
    "\n",
    "class DLProgress(tqdm):\n",
    "    last_block = 0\n",
    "\n",
    "    def hook(self, block_num=1, block_size=1, total_size=None):\n",
    "        self.total = total_size\n",
    "        self.update((block_num - self.last_block) * block_size)\n",
    "        self.last_block = block_num\n",
    "\n",
    "if not isfile(dataset_filename):\n",
    "    with DLProgress(unit='B', unit_scale=True, miniters=1, desc=dataset_name) as pbar:\n",
    "        urlretrieve(\n",
    "            'http://mattmahoney.net/dc/text8.zip',\n",
    "            dataset_filename,\n",
    "            pbar.hook)\n",
    "\n",
    "if not isdir(dataset_folder_path):\n",
    "    with zipfile.ZipFile(dataset_filename) as zip_ref:\n",
    "        zip_ref.extractall(dataset_folder_path)\n",
    "        \n",
    "with open('data/text8') as f:\n",
    "    text = f.read()"
   ]
  },
  {
   "cell_type": "markdown",
   "metadata": {},
   "source": [
    "## Preprocessing\n",
    "\n",
    "Here I'm fixing up the text to make training easier. This comes from the `utils` module I wrote. The `preprocess` function coverts any punctuation into tokens, so a period is changed to ` <PERIOD> `. In this data set, there aren't any periods, but it will help in other NLP problems. I'm also removing all words that show up five or fewer times in the dataset. This will greatly reduce issues due to noise in the data and improve the quality of the vector representations. If you want to write your own functions for this stuff, go for it."
   ]
  },
  {
   "cell_type": "code",
   "execution_count": 3,
   "metadata": {},
   "outputs": [
    {
     "name": "stdout",
     "output_type": "stream",
     "text": [
      "['anarchism', 'originated', 'as', 'a', 'term', 'of', 'abuse', 'first', 'used', 'against', 'early', 'working', 'class', 'radicals', 'including', 'the', 'diggers', 'of', 'the', 'english', 'revolution', 'and', 'the', 'sans', 'culottes', 'of', 'the', 'french', 'revolution', 'whilst']\n"
     ]
    }
   ],
   "source": [
    "words = utils.preprocess(text)\n",
    "print(words[:30])"
   ]
  },
  {
   "cell_type": "code",
   "execution_count": 4,
   "metadata": {},
   "outputs": [
    {
     "name": "stdout",
     "output_type": "stream",
     "text": [
      "Total words: 16680599\n",
      "Unique words: 63641\n"
     ]
    }
   ],
   "source": [
    "print(\"Total words: {}\".format(len(words)))\n",
    "print(\"Unique words: {}\".format(len(set(words))))"
   ]
  },
  {
   "cell_type": "markdown",
   "metadata": {},
   "source": [
    "And here I'm creating dictionaries to convert words to integers and backwards, integers to words. The integers are assigned in descending frequency order, so the most frequent word (\"the\") is given the integer 0 and the next most frequent is 1 and so on. The words are converted to integers and stored in the list `int_words`."
   ]
  },
  {
   "cell_type": "code",
   "execution_count": 5,
   "metadata": {
    "collapsed": true
   },
   "outputs": [],
   "source": [
    "vocab_to_int, int_to_vocab = utils.create_lookup_tables(words)\n",
    "int_words = [vocab_to_int[word] for word in words]"
   ]
  },
  {
   "cell_type": "markdown",
   "metadata": {},
   "source": [
    "## Subsampling\n",
    "\n",
    "Words that show up often such as \"the\", \"of\", and \"for\" don't provide much context to the nearby words. If we discard some of them, we can remove some of the noise from our data and in return get faster training and better representations. This process is called subsampling by Mikolov. For each word $w_i$ in the training set, we'll discard it with probability given by \n",
    "\n",
    "$$ P(w_i) = 1 - \\sqrt{\\frac{t}{f(w_i)}} $$\n",
    "\n",
    "where $t$ is a threshold parameter and $f(w_i)$ is the frequency of word $w_i$ in the total dataset.\n",
    "\n",
    "I'm going to leave this up to you as an exercise. This is more of a programming challenge, than about deep learning specifically. But, being able to prepare your data for your network is an important skill to have. Check out my solution to see how I did it.\n",
    "\n",
    "> **Exercise:** Implement subsampling for the words in `int_words`. That is, go through `int_words` and discard each word given the probablility $P(w_i)$ shown above. Note that $P(w_i)$ is the probability that a word is discarded. Assign the subsampled data to `train_words`."
   ]
  },
  {
   "cell_type": "code",
   "execution_count": 11,
   "metadata": {},
   "outputs": [],
   "source": [
    "## Your code here\n",
    "from collections import Counter\n",
    "import random \n",
    "\n",
    "threshold = 1e-5\n",
    "word_count = Counter(int_words)\n",
    "total_count = len(int_words)\n",
    "freq = {word: count/total_count for word,count in word_count.items()}\n",
    "p_drop = {word: 1 - np.sqrt(threshold/freq[word]) for word in word_count}\n",
    "train_words = [word for word in int_words if random.random() < (1 - p_drop[word])] # The final subsampled word list"
   ]
  },
  {
   "cell_type": "markdown",
   "metadata": {},
   "source": [
    "## Making batches"
   ]
  },
  {
   "cell_type": "markdown",
   "metadata": {},
   "source": [
    "Now that our data is in good shape, we need to get it into the proper form to pass it into our network. With the skip-gram architecture, for each word in the text, we want to grab all the words in a window around that word, with size $C$. \n",
    "\n",
    "From [Mikolov et al.](https://arxiv.org/pdf/1301.3781.pdf): \n",
    "\n",
    "\"Since the more distant words are usually less related to the current word than those close to it, we give less weight to the distant words by sampling less from those words in our training examples... If we choose $C = 5$, for each training word we will select randomly a number $R$ in range $< 1; C >$, and then use $R$ words from history and $R$ words from the future of the current word as correct labels.\"\n",
    "\n",
    "> **Exercise:** Implement a function `get_target` that receives a list of words, an index, and a window size, then returns a list of words in the window around the index. Make sure to use the algorithm described above, where you choose a random number of words from the window."
   ]
  },
  {
   "cell_type": "code",
   "execution_count": 12,
   "metadata": {
    "collapsed": true
   },
   "outputs": [],
   "source": [
    "def get_target(words, idx, window_size=5):\n",
    "    ''' Get a list of words in a window around an index. '''\n",
    "    \n",
    "    R = random.randint(1,window_size+1)\n",
    "    start = idx - R if (idx - R) > 0 else 0\n",
    "    stop = idx + R\n",
    "    target_words = set(words[start:idx] + words[idx+1:stop+1])\n",
    "    \n",
    "    return list(target_words)"
   ]
  },
  {
   "cell_type": "markdown",
   "metadata": {},
   "source": [
    "Here's a function that returns batches for our network. The idea is that it grabs `batch_size` words from a words list. Then for each of those words, it gets the target words in the window. I haven't found a way to pass in a random number of target words and get it to work with the architecture, so I make one row per input-target pair. This is a generator function by the way, helps save memory."
   ]
  },
  {
   "cell_type": "code",
   "execution_count": 13,
   "metadata": {
    "collapsed": true
   },
   "outputs": [],
   "source": [
    "def get_batches(words, batch_size, window_size=5):\n",
    "    ''' Create a generator of word batches as a tuple (inputs, targets) '''\n",
    "    \n",
    "    n_batches = len(words)//batch_size\n",
    "    \n",
    "    # only full batches\n",
    "    words = words[:n_batches*batch_size]\n",
    "    \n",
    "    for idx in range(0, len(words), batch_size):\n",
    "        x, y = [], []\n",
    "        batch = words[idx:idx+batch_size]\n",
    "        for ii in range(len(batch)):\n",
    "            batch_x = batch[ii]\n",
    "            batch_y = get_target(batch, ii, window_size)\n",
    "            y.extend(batch_y)\n",
    "            x.extend([batch_x]*len(batch_y))\n",
    "        yield x, y\n",
    "    "
   ]
  },
  {
   "cell_type": "markdown",
   "metadata": {},
   "source": [
    "## Building the graph\n",
    "\n",
    "From [Chris McCormick's blog](http://mccormickml.com/2016/04/19/word2vec-tutorial-the-skip-gram-model/), we can see the general structure of our network.\n",
    "![embedding_network](./assets/skip_gram_net_arch.png)\n",
    "\n",
    "The input words are passed in as integers. This will go into a hidden layer of linear units, then into a softmax layer. We'll use the softmax layer to make a prediction like normal.\n",
    "\n",
    "The idea here is to train the hidden layer weight matrix to find efficient representations for our words. We can discard the softmax layer becuase we don't really care about making predictions with this network. We just want the embedding matrix so we can use it in other networks we build from the dataset.\n",
    "\n",
    "I'm going to have you build the graph in stages now. First off, creating the `inputs` and `labels` placeholders like normal.\n",
    "\n",
    "> **Exercise:** Assign `inputs` and `labels` using `tf.placeholder`. We're going to be passing in integers, so set the data types to `tf.int32`. The batches we're passing in will have varying sizes, so set the batch sizes to [`None`]. To make things work later, you'll need to set the second dimension of `labels` to `None` or `1`."
   ]
  },
  {
   "cell_type": "code",
   "execution_count": 14,
   "metadata": {
    "collapsed": true
   },
   "outputs": [],
   "source": [
    "train_graph = tf.Graph()\n",
    "with train_graph.as_default():\n",
    "    inputs = tf.placeholder(tf.int32, [None], name = 'inputs')\n",
    "    labels = tf.placeholder(tf.int32, [None, None], name = 'labels')"
   ]
  },
  {
   "cell_type": "markdown",
   "metadata": {},
   "source": [
    "## Embedding\n",
    "\n"
   ]
  },
  {
   "cell_type": "markdown",
   "metadata": {
    "collapsed": true
   },
   "source": [
    "The embedding matrix has a size of the number of words by the number of units in the hidden layer. So, if you have 10,000 words and 300 hidden units, the matrix will have size $10,000 \\times 300$. Remember that we're using tokenized data for our inputs, usually as integers, where the number of tokens is the number of words in our vocabulary.\n",
    "\n",
    "\n",
    "> **Exercise:** Tensorflow provides a convenient function [`tf.nn.embedding_lookup`](https://www.tensorflow.org/api_docs/python/tf/nn/embedding_lookup) that does this lookup for us. You pass in the embedding matrix and a tensor of integers, then it returns rows in the matrix corresponding to those integers. Below, set the number of embedding features you'll use (200 is a good start), create the embedding matrix variable, and use `tf.nn.embedding_lookup` to get the embedding tensors. For the embedding matrix, I suggest you initialize it with a uniform random numbers between -1 and 1 using [tf.random_uniform](https://www.tensorflow.org/api_docs/python/tf/random_uniform)."
   ]
  },
  {
   "cell_type": "code",
   "execution_count": 15,
   "metadata": {
    "collapsed": true
   },
   "outputs": [],
   "source": [
    "n_vocab = len(int_to_vocab)\n",
    "n_embedding =  200 # Number of embedding features \n",
    "with train_graph.as_default():\n",
    "    embedding = tf.Variable(tf.random_uniform((n_vocab,n_embedding),-1,1))# create embedding weight matrix here\n",
    "    embed = tf.nn.embedding_lookup(embedding, inputs)# use tf.nn.embedding_lookup to get the hidden layer output"
   ]
  },
  {
   "cell_type": "markdown",
   "metadata": {},
   "source": [
    "## Negative sampling\n",
    "\n"
   ]
  },
  {
   "cell_type": "markdown",
   "metadata": {},
   "source": [
    "For every example we give the network, we train it using the output from the softmax layer. That means for each input, we're making very small changes to millions of weights even though we only have one true example. This makes training the network very inefficient. We can approximate the loss from the softmax layer by only updating a small subset of all the weights at once. We'll update the weights for the correct label, but only a small number of incorrect labels. This is called [\"negative sampling\"](http://papers.nips.cc/paper/5021-distributed-representations-of-words-and-phrases-and-their-compositionality.pdf). Tensorflow has a convenient function to do this, [`tf.nn.sampled_softmax_loss`](https://www.tensorflow.org/api_docs/python/tf/nn/sampled_softmax_loss).\n",
    "\n",
    "> **Exercise:** Below, create weights and biases for the softmax layer. Then, use [`tf.nn.sampled_softmax_loss`](https://www.tensorflow.org/api_docs/python/tf/nn/sampled_softmax_loss) to calculate the loss. Be sure to read the documentation to figure out how it works."
   ]
  },
  {
   "cell_type": "code",
   "execution_count": 17,
   "metadata": {},
   "outputs": [],
   "source": [
    "# Number of negative labels to sample\n",
    "n_sampled = 100\n",
    "with train_graph.as_default():\n",
    "    softmax_w = tf.Variable(tf.truncated_normal((n_vocab, n_embedding), stddev=0.1))\n",
    "    softmax_b =tf.Variable(tf.zeros(n_vocab)) # create softmax biases here\n",
    "    \n",
    "    # Calculate the loss using negative sampling\n",
    "    loss = tf.nn.sampled_softmax_loss(softmax_w, softmax_b, labels, embed, n_sampled,n_vocab)\n",
    "    \n",
    "    cost = tf.reduce_mean(loss)\n",
    "    optimizer = tf.train.AdamOptimizer().minimize(cost)"
   ]
  },
  {
   "cell_type": "markdown",
   "metadata": {},
   "source": [
    "## Validation\n",
    "\n",
    "This code is from Thushan Ganegedara's implementation. Here we're going to choose a few common words and few uncommon words. Then, we'll print out the closest words to them. It's a nice way to check that our embedding table is grouping together words with similar semantic meanings."
   ]
  },
  {
   "cell_type": "code",
   "execution_count": 18,
   "metadata": {
    "collapsed": true
   },
   "outputs": [],
   "source": [
    "with train_graph.as_default():\n",
    "    ## From Thushan Ganegedara's implementation\n",
    "    valid_size = 16 # Random set of words to evaluate similarity on.\n",
    "    valid_window = 100\n",
    "    # pick 8 samples from (0,100) and (1000,1100) each ranges. lower id implies more frequent \n",
    "    valid_examples = np.array(random.sample(range(valid_window), valid_size//2))\n",
    "    valid_examples = np.append(valid_examples, \n",
    "                               random.sample(range(1000,1000+valid_window), valid_size//2))\n",
    "\n",
    "    valid_dataset = tf.constant(valid_examples, dtype=tf.int32)\n",
    "    \n",
    "    # We use the cosine distance:\n",
    "    norm = tf.sqrt(tf.reduce_sum(tf.square(embedding), 1, keep_dims=True))\n",
    "    normalized_embedding = embedding / norm\n",
    "    valid_embedding = tf.nn.embedding_lookup(normalized_embedding, valid_dataset)\n",
    "    similarity = tf.matmul(valid_embedding, tf.transpose(normalized_embedding))"
   ]
  },
  {
   "cell_type": "code",
   "execution_count": 19,
   "metadata": {
    "collapsed": true
   },
   "outputs": [],
   "source": [
    "# If the checkpoints directory doesn't exist:\n",
    "!mkdir checkpoints"
   ]
  },
  {
   "cell_type": "markdown",
   "metadata": {},
   "source": [
    "## Training\n",
    "\n",
    "Below is the code to train the network. Every 100 batches it reports the training loss. Every 1000 batches, it'll print out the validation words."
   ]
  },
  {
   "cell_type": "code",
   "execution_count": null,
   "metadata": {},
   "outputs": [
    {
     "name": "stdout",
     "output_type": "stream",
     "text": [
      "Epoch 1/10 Iteration: 100 Avg. Training loss: 5.6295 0.4756 sec/batch\n",
      "Epoch 1/10 Iteration: 200 Avg. Training loss: 5.6165 0.4866 sec/batch\n",
      "Epoch 1/10 Iteration: 300 Avg. Training loss: 5.5283 0.4913 sec/batch\n",
      "Epoch 1/10 Iteration: 400 Avg. Training loss: 5.6149 0.5052 sec/batch\n",
      "Epoch 1/10 Iteration: 500 Avg. Training loss: 5.5291 0.4477 sec/batch\n",
      "Epoch 1/10 Iteration: 600 Avg. Training loss: 5.5408 0.4080 sec/batch\n",
      "Epoch 1/10 Iteration: 700 Avg. Training loss: 5.5244 0.3941 sec/batch\n",
      "Epoch 1/10 Iteration: 800 Avg. Training loss: 5.4944 0.4003 sec/batch\n",
      "Epoch 1/10 Iteration: 900 Avg. Training loss: 5.4574 0.3985 sec/batch\n",
      "Epoch 1/10 Iteration: 1000 Avg. Training loss: 5.4266 0.3991 sec/batch\n",
      "Nearest to american: birka, risk, shortened, disputed, dall, grosz, genesee, nsu,\n",
      "Nearest to other: vitellius, rsc, seven, extensions, beginner, willy, this, visualization,\n",
      "Nearest to such: opportunities, sayyid, defenses, illich, obama, richer, fruit, last,\n",
      "Nearest to new: borgia, discreetly, unlike, contemplation, potato, oberon, biddle, throttled,\n",
      "Nearest to two: billie, cleese, halcyon, thunderbird, julius, rhyme, liquefaction, attacking,\n",
      "Nearest to that: tractors, aware, buildings, cmc, phagocytic, sedentary, opportunity, learner,\n",
      "Nearest to which: ye, highly, reznor, rice, parallax, teams, abruptly, industrious,\n",
      "Nearest to many: reassuring, fond, worldview, get, yazidism, also, stolen, mute,\n",
      "Nearest to question: obstruents, fragmentation, somerled, surfer, electromagnets, brooklynites, denounce, the,\n",
      "Nearest to universe: extend, fulda, intolerance, aris, frieze, formative, naghten, salman,\n",
      "Nearest to stage: yohannes, bur, pesce, resurrecting, opacity, adopt, ultimo, inflamed,\n",
      "Nearest to marriage: megan, abduction, energetics, breach, philosophies, dryer, unwarranted, shank,\n",
      "Nearest to notes: wearing, catholics, ensure, cbm, achromatic, concord, seydlitz, haight,\n",
      "Nearest to bible: peaceable, phenomenon, klaproth, downsizing, folding, ecchi, endeavored, schemes,\n",
      "Nearest to channel: ritually, polyrhythmic, refrain, defenses, eero, serve, magnified, unspecified,\n",
      "Nearest to centre: pine, ita, bangs, dented, miao, rebuilds, assault, lampooning,\n",
      "Epoch 1/10 Iteration: 1100 Avg. Training loss: 5.4940 0.4068 sec/batch\n",
      "Epoch 1/10 Iteration: 1200 Avg. Training loss: 5.3580 0.4030 sec/batch\n",
      "Epoch 1/10 Iteration: 1300 Avg. Training loss: 5.2902 0.3957 sec/batch\n",
      "Epoch 1/10 Iteration: 1400 Avg. Training loss: 5.2174 0.4008 sec/batch\n",
      "Epoch 1/10 Iteration: 1500 Avg. Training loss: 5.1588 0.3919 sec/batch\n",
      "Epoch 1/10 Iteration: 1600 Avg. Training loss: 5.1195 0.3935 sec/batch\n",
      "Epoch 1/10 Iteration: 1700 Avg. Training loss: 5.0729 0.4168 sec/batch\n",
      "Epoch 1/10 Iteration: 1800 Avg. Training loss: 5.0560 0.4047 sec/batch\n",
      "Epoch 1/10 Iteration: 1900 Avg. Training loss: 4.9927 0.3962 sec/batch\n",
      "Epoch 1/10 Iteration: 2000 Avg. Training loss: 4.9788 0.3919 sec/batch\n",
      "Nearest to american: late, risk, shortened, disputed, george, private, birka, computed,\n",
      "Nearest to other: system, extensions, vitellius, this, rsc, beginner, seven, won,\n",
      "Nearest to such: opportunities, last, fruit, chief, competition, stories, richer, illich,\n",
      "Nearest to new: borgia, unlike, potato, mode, done, senior, his, pmid,\n",
      "Nearest to two: julius, religious, billie, cleese, attacking, rhyme, thunderbird, halcyon,\n",
      "Nearest to that: tractors, aware, buildings, an, opportunity, learner, musician, sedentary,\n",
      "Nearest to which: highly, ye, rice, depends, teams, tunnels, appropriately, comparisons,\n",
      "Nearest to many: get, fond, also, obvious, worldview, periods, stolen, nobody,\n",
      "Nearest to question: fragmentation, the, obstruents, further, expand, appeal, magnitude, disraeli,\n",
      "Nearest to universe: extend, fulda, aris, frieze, intolerance, stages, naghten, branches,\n",
      "Nearest to stage: bur, adopt, yohannes, opacity, types, room, ay, georg,\n",
      "Nearest to marriage: breach, abduction, scars, peacetime, philosophies, variety, megan, hippocampus,\n",
      "Nearest to notes: wearing, ensure, catholics, southern, cbm, ca, differently, punishment,\n",
      "Nearest to bible: peaceable, phenomenon, rainfall, folding, schemes, downsizing, interests, java,\n",
      "Nearest to channel: year, polyrhythmic, serve, refrain, notable, underwent, defenses, ritually,\n",
      "Nearest to centre: pine, ita, insufficient, belt, speed, deciding, gonzaga, bangs,\n",
      "Epoch 1/10 Iteration: 2100 Avg. Training loss: 4.9134 0.4046 sec/batch\n",
      "Epoch 1/10 Iteration: 2200 Avg. Training loss: 4.8739 0.3983 sec/batch\n",
      "Epoch 1/10 Iteration: 2300 Avg. Training loss: 4.8863 0.3929 sec/batch\n",
      "Epoch 1/10 Iteration: 2400 Avg. Training loss: 4.8561 0.3869 sec/batch\n",
      "Epoch 1/10 Iteration: 2500 Avg. Training loss: 4.8220 0.3928 sec/batch\n",
      "Epoch 1/10 Iteration: 2600 Avg. Training loss: 4.8024 0.4000 sec/batch\n",
      "Epoch 1/10 Iteration: 2700 Avg. Training loss: 4.8128 0.4035 sec/batch\n",
      "Epoch 1/10 Iteration: 2800 Avg. Training loss: 4.7657 0.4047 sec/batch\n",
      "Epoch 1/10 Iteration: 2900 Avg. Training loss: 4.7835 0.4003 sec/batch\n",
      "Epoch 1/10 Iteration: 3000 Avg. Training loss: 4.7696 0.3879 sec/batch\n",
      "Nearest to american: george, late, private, birka, disputed, millikan, gerald, shortened,\n",
      "Nearest to other: vitellius, extensions, system, rsc, beginner, thermal, deeper, this,\n",
      "Nearest to such: opportunities, richer, competition, last, defenses, tightened, fruit, chief,\n",
      "Nearest to new: borgia, unlike, downturn, potato, exercised, insisted, oberon, collapsing,\n",
      "Nearest to two: julius, billie, rhyme, cleese, commodities, leopold, zero, match,\n",
      "Nearest to that: tractors, aware, opportunity, buildings, an, phagocytic, apg, learner,\n",
      "Nearest to which: highly, ye, reznor, rice, depends, tunnels, parallax, pistol,\n",
      "Nearest to many: get, worldview, obvious, periods, storytelling, also, fond, heroic,\n",
      "Nearest to question: fragmentation, obstruents, provoked, magnitude, appeal, the, denounce, impoverished,\n",
      "Nearest to universe: extend, fulda, aris, frieze, intolerance, unions, stages, formative,\n",
      "Nearest to stage: adopt, bur, yohannes, opacity, appropriations, accompanying, room, georg,\n",
      "Nearest to marriage: breach, philosophies, abduction, peacetime, scars, levels, mentality, megan,\n",
      "Nearest to notes: wearing, catholics, sovereign, ensure, punishment, cbm, differently, occupational,\n",
      "Nearest to bible: peaceable, phenomenon, downsizing, schemes, interests, rainfall, wheel, folding,\n",
      "Nearest to channel: year, refrain, polyrhythmic, defenses, serve, ritually, unspecified, underwent,\n",
      "Nearest to centre: pine, ita, dented, insufficient, belt, speed, pronounce, terrestrial,\n",
      "Epoch 1/10 Iteration: 3100 Avg. Training loss: 4.7604 0.4000 sec/batch\n",
      "Epoch 1/10 Iteration: 3200 Avg. Training loss: 4.7692 0.4000 sec/batch\n",
      "Epoch 1/10 Iteration: 3300 Avg. Training loss: 4.7141 0.4003 sec/batch\n",
      "Epoch 1/10 Iteration: 3400 Avg. Training loss: 4.7049 0.3996 sec/batch\n",
      "Epoch 1/10 Iteration: 3500 Avg. Training loss: 4.7611 0.4032 sec/batch\n",
      "Epoch 1/10 Iteration: 3600 Avg. Training loss: 4.6948 0.4029 sec/batch\n",
      "Epoch 1/10 Iteration: 3700 Avg. Training loss: 4.7084 0.4026 sec/batch\n",
      "Epoch 1/10 Iteration: 3800 Avg. Training loss: 4.7108 0.4030 sec/batch\n",
      "Epoch 1/10 Iteration: 3900 Avg. Training loss: 4.6782 0.4038 sec/batch\n",
      "Epoch 1/10 Iteration: 4000 Avg. Training loss: 4.6630 0.4045 sec/batch\n",
      "Nearest to american: george, gerald, late, iii, millikan, private, baron, wrote,\n",
      "Nearest to other: vitellius, extensions, rsc, system, beginner, thermal, this, sixpence,\n",
      "Nearest to such: opportunities, indicated, shaking, obama, richer, angelic, is, tightened,\n",
      "Nearest to new: borgia, unlike, oberon, exercised, jutish, insisted, downturn, potato,\n",
      "Nearest to two: zero, billie, julius, leopold, commodities, sevens, borough, crescendo,\n",
      "Nearest to that: tractors, aware, phagocytic, opportunity, buildings, an, terminates, undercoat,\n",
      "Nearest to which: highly, rice, reznor, tunnels, depends, pistol, ye, hair,\n",
      "Nearest to many: get, worldview, obvious, peres, substantiated, reassuring, testimony, stolen,\n",
      "Nearest to question: fragmentation, provoked, obstruents, magnitude, denounce, appeal, surfer, norris,\n",
      "Nearest to universe: extend, fulda, aris, frieze, intolerance, naghten, formative, jus,\n",
      "Nearest to stage: yohannes, bur, adopt, opacity, appropriations, hydrophilic, resurrecting, orchestras,\n"
     ]
    },
    {
     "name": "stdout",
     "output_type": "stream",
     "text": [
      "Nearest to marriage: abduction, breach, philosophies, megan, peacetime, unregulated, nonterminal, liberation,\n",
      "Nearest to notes: catholics, concord, sovereign, wearing, occupational, ensure, cbm, impeachment,\n",
      "Nearest to bible: downsizing, peaceable, interests, phenomenon, schemes, endeavored, typhon, wheel,\n",
      "Nearest to channel: year, refrain, polyrhythmic, defenses, unspecified, ritually, serve, eero,\n",
      "Nearest to centre: pine, dented, ita, insufficient, terrestrial, belt, assault, gonzaga,\n",
      "Epoch 1/10 Iteration: 4100 Avg. Training loss: 4.6986 0.4034 sec/batch\n",
      "Epoch 1/10 Iteration: 4200 Avg. Training loss: 4.6532 0.3918 sec/batch\n",
      "Epoch 1/10 Iteration: 4300 Avg. Training loss: 4.6137 0.3857 sec/batch\n",
      "Epoch 1/10 Iteration: 4400 Avg. Training loss: 4.6317 0.3828 sec/batch\n",
      "Epoch 1/10 Iteration: 4500 Avg. Training loss: 4.6570 0.3853 sec/batch\n",
      "Epoch 1/10 Iteration: 4600 Avg. Training loss: 4.6351 0.3914 sec/batch\n",
      "Epoch 2/10 Iteration: 4700 Avg. Training loss: 4.6041 0.2805 sec/batch\n",
      "Epoch 2/10 Iteration: 4800 Avg. Training loss: 4.5672 0.3985 sec/batch\n",
      "Epoch 2/10 Iteration: 4900 Avg. Training loss: 4.4887 0.4012 sec/batch\n",
      "Epoch 2/10 Iteration: 5000 Avg. Training loss: 4.5109 0.3997 sec/batch\n",
      "Nearest to american: george, actress, iii, baron, gerald, politician, millikan, wrestler,\n",
      "Nearest to other: extensions, vitellius, beginner, system, rsc, this, rtp, thermal,\n",
      "Nearest to such: opportunities, is, indicated, richer, shaking, tightened, mishnah, competition,\n",
      "Nearest to new: borgia, aleutian, insisted, downturn, jutish, linger, biddle, oberon,\n",
      "Nearest to two: zero, billie, julius, three, commodities, leopold, crescendo, sevens,\n",
      "Nearest to that: tractors, aware, phagocytic, terminates, an, undercoat, animaniacs, cmc,\n",
      "Nearest to which: highly, pistol, deux, reznor, parallax, shoeless, rice, tunnels,\n",
      "Nearest to many: get, obvious, worldview, substantiated, peres, socio, yazidism, transnistria,\n",
      "Nearest to question: fragmentation, denounce, magnitude, obstruents, appeal, the, disraeli, impoverished,\n",
      "Nearest to universe: extend, fulda, aris, frieze, naghten, formative, salman, nicolson,\n",
      "Nearest to stage: yohannes, bur, appropriations, resurrecting, opacity, adopt, speedy, hydrophilic,\n",
      "Nearest to marriage: abduction, megan, breach, philosophies, unregulated, nonterminal, amidst, contemplation,\n",
      "Nearest to notes: concord, catholics, molitor, cbm, wearing, sovereign, occupational, unido,\n",
      "Nearest to bible: downsizing, peaceable, typhon, interests, endeavored, phenomenon, forked, synagogue,\n",
      "Nearest to channel: year, polyrhythmic, refrain, eero, ritually, defenses, dakota, unspecified,\n",
      "Nearest to centre: pine, dented, ita, belt, tricking, assault, insufficient, gonzaga,\n",
      "Epoch 2/10 Iteration: 5100 Avg. Training loss: 4.5002 0.4068 sec/batch\n",
      "Epoch 2/10 Iteration: 5200 Avg. Training loss: 4.5070 108.4087 sec/batch\n",
      "Epoch 2/10 Iteration: 5300 Avg. Training loss: 4.4837 303.6387 sec/batch\n",
      "Epoch 2/10 Iteration: 5400 Avg. Training loss: 4.5067 0.4474 sec/batch\n",
      "Epoch 2/10 Iteration: 5500 Avg. Training loss: 4.4872 0.4594 sec/batch\n",
      "Epoch 2/10 Iteration: 5600 Avg. Training loss: 4.4840 0.4358 sec/batch\n",
      "Epoch 2/10 Iteration: 5700 Avg. Training loss: 4.4512 0.4067 sec/batch\n",
      "Epoch 2/10 Iteration: 5800 Avg. Training loss: 4.4197 0.5078 sec/batch\n",
      "Epoch 2/10 Iteration: 5900 Avg. Training loss: 4.4481 0.5303 sec/batch\n",
      "Epoch 2/10 Iteration: 6000 Avg. Training loss: 4.4586 0.5238 sec/batch\n",
      "Nearest to american: george, actress, iii, birka, simmons, late, millikan, politician,\n",
      "Nearest to other: extensions, vitellius, beginner, rsc, rtp, system, this, thermal,\n",
      "Nearest to such: is, opportunities, tightened, indicated, mishnah, richer, shaking, syntactic,\n",
      "Nearest to new: aleutian, borgia, insisted, oberon, linger, jutish, biddle, downturn,\n",
      "Nearest to two: zero, three, sevens, commodities, billie, seven, borough, leopold,\n",
      "Nearest to that: tractors, aware, an, we, phagocytic, undercoat, apg, minds,\n",
      "Nearest to which: highly, pistol, veteris, parallax, posthuman, shoeless, reznor, depends,\n",
      "Nearest to many: get, obvious, worldview, substantiated, peres, socio, codebreaking, also,\n",
      "Nearest to question: fragmentation, magnitude, obstruents, denounce, electromagnets, appeal, impoverished, cosmological,\n",
      "Nearest to universe: extend, fulda, aris, nicolson, frieze, naghten, resistors, intolerance,\n",
      "Nearest to stage: yohannes, resurrecting, opacity, bur, appropriations, adopt, speedy, orchestras,\n",
      "Nearest to marriage: breach, abduction, megan, philosophies, nonterminal, contemplation, amidst, unregulated,\n",
      "Nearest to notes: concord, molitor, catholics, wegener, wearing, sovereign, occupational, unido,\n",
      "Nearest to bible: downsizing, peaceable, typhon, endeavored, forked, cassady, crucifixion, unwittingly,\n",
      "Nearest to channel: year, polyrhythmic, eero, refrain, businessweek, transmitted, dakota, top,\n",
      "Nearest to centre: pine, ita, dented, belt, tricking, terrestrial, gonzaga, assault,\n",
      "Epoch 2/10 Iteration: 6100 Avg. Training loss: 4.4471 0.5093 sec/batch\n",
      "Epoch 2/10 Iteration: 6200 Avg. Training loss: 4.4119 0.4956 sec/batch\n",
      "Epoch 2/10 Iteration: 6300 Avg. Training loss: 4.4594 0.5112 sec/batch\n",
      "Epoch 2/10 Iteration: 6400 Avg. Training loss: 4.3857 0.5197 sec/batch\n",
      "Epoch 2/10 Iteration: 6500 Avg. Training loss: 4.4351 0.4895 sec/batch\n",
      "Epoch 2/10 Iteration: 6600 Avg. Training loss: 4.4613 0.4156 sec/batch\n",
      "Epoch 2/10 Iteration: 6700 Avg. Training loss: 4.4236 0.4360 sec/batch\n",
      "Epoch 2/10 Iteration: 6800 Avg. Training loss: 4.3764 0.4166 sec/batch\n",
      "Epoch 2/10 Iteration: 6900 Avg. Training loss: 4.4020 0.4070 sec/batch\n",
      "Epoch 2/10 Iteration: 7000 Avg. Training loss: 4.3948 0.3988 sec/batch\n",
      "Nearest to american: george, actress, simmons, villa, iii, birka, pratt, gerald,\n",
      "Nearest to other: extensions, vitellius, beginner, rsc, this, system, rtp, sixpence,\n",
      "Nearest to such: is, tightened, opportunities, syntactic, mishnah, richer, indicated, strictly,\n",
      "Nearest to new: insisted, aleutian, borgia, oberon, linger, jutish, biddle, unlike,\n",
      "Nearest to two: zero, three, sevens, seven, commodities, billie, one, nostrand,\n",
      "Nearest to that: tractors, aware, an, we, undercoat, apg, phagocytic, animaniacs,\n",
      "Nearest to which: highly, veteris, reznor, parallax, dera, depends, paran, shoeless,\n",
      "Nearest to many: obvious, get, worldview, peres, also, substantiated, neuropsychological, codebreaking,\n",
      "Nearest to question: fragmentation, magnitude, obstruents, further, denounce, appeal, the, cosmological,\n",
      "Nearest to universe: extend, fulda, aris, resistors, nicolson, toklas, naghten, formative,\n",
      "Nearest to stage: yohannes, resurrecting, orchestras, hydrophilic, opacity, pesce, accompanying, cadence,\n",
      "Nearest to marriage: abduction, megan, philosophies, breach, contemplation, nonterminal, electoral, unwarranted,\n",
      "Nearest to notes: molitor, catholics, concord, wegener, cbm, achromatic, occupational, differently,\n",
      "Nearest to bible: downsizing, peaceable, typhon, crucifixion, endeavored, forked, synagogue, cassady,\n",
      "Nearest to channel: year, polyrhythmic, television, transmitted, dakota, businessweek, eero, transceiver,\n",
      "Nearest to centre: pine, ita, dented, tricking, belt, gonzaga, launceston, insufficient,\n",
      "Epoch 2/10 Iteration: 7100 Avg. Training loss: 4.4042 0.4131 sec/batch\n",
      "Epoch 2/10 Iteration: 7200 Avg. Training loss: 4.3711 0.3954 sec/batch\n",
      "Epoch 2/10 Iteration: 7300 Avg. Training loss: 4.3678 0.4043 sec/batch\n",
      "Epoch 2/10 Iteration: 7400 Avg. Training loss: 4.3701 0.4294 sec/batch\n",
      "Epoch 2/10 Iteration: 7500 Avg. Training loss: 4.4200 0.4228 sec/batch\n",
      "Epoch 2/10 Iteration: 7600 Avg. Training loss: 4.3681 0.4143 sec/batch\n",
      "Epoch 2/10 Iteration: 7700 Avg. Training loss: 4.3743 0.4206 sec/batch\n",
      "Epoch 2/10 Iteration: 7800 Avg. Training loss: 4.3873 0.4284 sec/batch\n",
      "Epoch 2/10 Iteration: 7900 Avg. Training loss: 4.3268 0.4268 sec/batch\n",
      "Epoch 2/10 Iteration: 8000 Avg. Training loss: 4.3345 0.4071 sec/batch\n",
      "Nearest to american: george, simmons, birka, villa, pratt, gerald, roberta, late,\n",
      "Nearest to other: extensions, vitellius, rsc, beginner, rtp, this, sixpence, system,\n",
      "Nearest to such: is, opportunities, tightened, indicated, syntactic, mishnah, richer, redrawn,\n",
      "Nearest to new: aleutian, insisted, borgia, linger, downturn, biddle, sympathized, jutish,\n"
     ]
    },
    {
     "name": "stdout",
     "output_type": "stream",
     "text": [
      "Nearest to two: zero, three, seven, sevens, five, one, four, nostrand,\n",
      "Nearest to that: tractors, aware, we, an, undercoat, terminates, phagocytic, apg,\n",
      "Nearest to which: veteris, posthuman, highly, egoists, dera, reznor, ordinary, paran,\n",
      "Nearest to many: obvious, worldview, get, also, peres, heal, socio, substantiated,\n",
      "Nearest to question: fragmentation, denounce, appeal, disraeli, electromagnets, further, obstruents, the,\n",
      "Nearest to universe: extend, aris, fulda, nicolson, resistors, stressing, toklas, intolerance,\n",
      "Nearest to stage: yohannes, orchestras, resurrecting, accompanying, hydrophilic, betamax, adopt, cadence,\n",
      "Nearest to marriage: abduction, megan, philosophies, breach, contemplation, nonterminal, fnc, younger,\n",
      "Nearest to notes: molitor, concord, jaina, wegener, achromatic, catholics, differently, cbm,\n",
      "Nearest to bible: crucifixion, typhon, mystical, synagogue, downsizing, peaceable, allegorical, cassady,\n",
      "Nearest to channel: polyrhythmic, television, businessweek, year, transmitted, transceiver, eero, dakota,\n",
      "Nearest to centre: pine, dented, ita, belt, tricking, launceston, gonzaga, ferenc,\n",
      "Epoch 2/10 Iteration: 8100 Avg. Training loss: 4.3581 0.4309 sec/batch\n",
      "Epoch 2/10 Iteration: 8200 Avg. Training loss: 4.3120 0.4267 sec/batch\n",
      "Epoch 2/10 Iteration: 8300 Avg. Training loss: 4.3671 0.4210 sec/batch\n",
      "Epoch 2/10 Iteration: 8400 Avg. Training loss: 4.3786 0.4065 sec/batch\n",
      "Epoch 2/10 Iteration: 8500 Avg. Training loss: 4.3877 0.4242 sec/batch\n",
      "Epoch 2/10 Iteration: 8600 Avg. Training loss: 4.2884 0.4166 sec/batch\n",
      "Epoch 2/10 Iteration: 8700 Avg. Training loss: 4.3158 0.4107 sec/batch\n"
     ]
    }
   ],
   "source": [
    "epochs = 10\n",
    "batch_size = 1000\n",
    "window_size = 10\n",
    "\n",
    "with train_graph.as_default():\n",
    "    saver = tf.train.Saver()\n",
    "\n",
    "with tf.Session(graph=train_graph) as sess:\n",
    "    iteration = 1\n",
    "    loss = 0\n",
    "    sess.run(tf.global_variables_initializer())\n",
    "\n",
    "    for e in range(1, epochs+1):\n",
    "        batches = get_batches(train_words, batch_size, window_size)\n",
    "        start = time.time()\n",
    "        for x, y in batches:\n",
    "            \n",
    "            feed = {inputs: x,\n",
    "                    labels: np.array(y)[:, None]}\n",
    "            train_loss, _ = sess.run([cost, optimizer], feed_dict=feed)\n",
    "            \n",
    "            loss += train_loss\n",
    "            \n",
    "            if iteration % 100 == 0: \n",
    "                end = time.time()\n",
    "                print(\"Epoch {}/{}\".format(e, epochs),\n",
    "                      \"Iteration: {}\".format(iteration),\n",
    "                      \"Avg. Training loss: {:.4f}\".format(loss/100),\n",
    "                      \"{:.4f} sec/batch\".format((end-start)/100))\n",
    "                loss = 0\n",
    "                start = time.time()\n",
    "            \n",
    "            if iteration % 1000 == 0:\n",
    "                ## From Thushan Ganegedara's implementation\n",
    "                # note that this is expensive (~20% slowdown if computed every 500 steps)\n",
    "                sim = similarity.eval()\n",
    "                for i in range(valid_size):\n",
    "                    valid_word = int_to_vocab[valid_examples[i]]\n",
    "                    top_k = 8 # number of nearest neighbors\n",
    "                    nearest = (-sim[i, :]).argsort()[1:top_k+1]\n",
    "                    log = 'Nearest to %s:' % valid_word\n",
    "                    for k in range(top_k):\n",
    "                        close_word = int_to_vocab[nearest[k]]\n",
    "                        log = '%s %s,' % (log, close_word)\n",
    "                    print(log)\n",
    "            \n",
    "            iteration += 1\n",
    "    save_path = saver.save(sess, \"checkpoints/text8.ckpt\")\n",
    "    embed_mat = sess.run(normalized_embedding)"
   ]
  },
  {
   "cell_type": "markdown",
   "metadata": {},
   "source": [
    "Restore the trained network if you need to:"
   ]
  },
  {
   "cell_type": "code",
   "execution_count": null,
   "metadata": {
    "collapsed": true
   },
   "outputs": [],
   "source": [
    "with train_graph.as_default():\n",
    "    saver = tf.train.Saver()\n",
    "\n",
    "with tf.Session(graph=train_graph) as sess:\n",
    "    saver.restore(sess, tf.train.latest_checkpoint('checkpoints'))\n",
    "    embed_mat = sess.run(embedding)"
   ]
  },
  {
   "cell_type": "markdown",
   "metadata": {},
   "source": [
    "## Visualizing the word vectors\n",
    "\n",
    "Below we'll use T-SNE to visualize how our high-dimensional word vectors cluster together. T-SNE is used to project these vectors into two dimensions while preserving local stucture. Check out [this post from Christopher Olah](http://colah.github.io/posts/2014-10-Visualizing-MNIST/) to learn more about T-SNE and other ways to visualize high-dimensional data."
   ]
  },
  {
   "cell_type": "code",
   "execution_count": null,
   "metadata": {
    "collapsed": true
   },
   "outputs": [],
   "source": [
    "%matplotlib inline\n",
    "%config InlineBackend.figure_format = 'retina'\n",
    "\n",
    "import matplotlib.pyplot as plt\n",
    "from sklearn.manifold import TSNE"
   ]
  },
  {
   "cell_type": "code",
   "execution_count": null,
   "metadata": {
    "collapsed": true
   },
   "outputs": [],
   "source": [
    "viz_words = 500\n",
    "tsne = TSNE()\n",
    "embed_tsne = tsne.fit_transform(embed_mat[:viz_words, :])"
   ]
  },
  {
   "cell_type": "code",
   "execution_count": null,
   "metadata": {
    "collapsed": true
   },
   "outputs": [],
   "source": [
    "fig, ax = plt.subplots(figsize=(14, 14))\n",
    "for idx in range(viz_words):\n",
    "    plt.scatter(*embed_tsne[idx, :], color='steelblue')\n",
    "    plt.annotate(int_to_vocab[idx], (embed_tsne[idx, 0], embed_tsne[idx, 1]), alpha=0.7)"
   ]
  }
 ],
 "metadata": {
  "kernelspec": {
   "display_name": "Python 3",
   "language": "python",
   "name": "python3"
  },
  "language_info": {
   "codemirror_mode": {
    "name": "ipython",
    "version": 3
   },
   "file_extension": ".py",
   "mimetype": "text/x-python",
   "name": "python",
   "nbconvert_exporter": "python",
   "pygments_lexer": "ipython3",
   "version": "3.6.2"
  }
 },
 "nbformat": 4,
 "nbformat_minor": 2
}
